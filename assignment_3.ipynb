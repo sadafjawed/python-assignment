{
  "nbformat": 4,
  "nbformat_minor": 0,
  "metadata": {
    "colab": {
      "name": "assignment 3.ipynb",
      "provenance": []
    },
    "kernelspec": {
      "name": "python3",
      "display_name": "Python 3"
    }
  },
  "cells": [
    {
      "cell_type": "markdown",
      "metadata": {
        "id": "dPsRR3MXOTz9",
        "colab_type": "text"
      },
      "source": [
        " Program 1"
      ]
    },
    {
      "cell_type": "code",
      "metadata": {
        "id": "HKAfK9EvMtQL",
        "colab_type": "code",
        "outputId": "f5ae0d41-a298-4454-c098-8c067206a0f8",
        "colab": {
          "base_uri": "https://localhost:8080/",
          "height": 85
        }
      },
      "source": [
        "x=int(input(\"enter your first number: \"))\n",
        "y=int(input(\"enter your second number: \"))\n",
        "a=input(\"enter your function: \")\n",
        "if(a==\"addition\"):\n",
        "  print(x+y)\n",
        "elif(a==\"subtraction\"):\n",
        "  print(x-y)\n",
        "elif(a==\"multiplication\"):\n",
        "  print(x*y)\n",
        "elif(a==\"division\"):\n",
        "  print(x//y)\n",
        "elif(a==\"power\"):\n",
        "  print(x**y)\n",
        "\n"
      ],
      "execution_count": 0,
      "outputs": [
        {
          "output_type": "stream",
          "text": [
            "enter your first number3\n",
            "enter your second number5\n",
            "enter your functionaddition\n",
            "8\n"
          ],
          "name": "stdout"
        }
      ]
    },
    {
      "cell_type": "markdown",
      "metadata": {
        "id": "XY2i08iwPM3x",
        "colab_type": "text"
      },
      "source": [
        "Program 2"
      ]
    },
    {
      "cell_type": "code",
      "metadata": {
        "id": "oVFr8CHkPNu_",
        "colab_type": "code",
        "outputId": "51348363-a488-4c29-86a7-b860f1d51cbb",
        "colab": {
          "base_uri": "https://localhost:8080/",
          "height": 34
        }
      },
      "source": [
        "z=[\"a\",\"b\",\"c\",5,7,\"f\",8,0,3,\"w\",\"e\"]\n",
        "count=0\n",
        "for r in z:\n",
        "  if type(r)==int:\n",
        "    count=count+1\n",
        "print(\"number of numeric values in list :\",count) "
      ],
      "execution_count": 0,
      "outputs": [
        {
          "output_type": "stream",
          "text": [
            "number of numeric values in list : 5\n"
          ],
          "name": "stdout"
        }
      ]
    },
    {
      "cell_type": "markdown",
      "metadata": {
        "id": "7ftfi6-4POxt",
        "colab_type": "text"
      },
      "source": [
        "Program 3"
      ]
    },
    {
      "cell_type": "code",
      "metadata": {
        "id": "cjXzPDuCPP58",
        "colab_type": "code",
        "colab": {
          "base_uri": "https://localhost:8080/",
          "height": 51
        },
        "outputId": "93fd6ab6-1ddb-4516-d1cd-47f7f761ce32"
      },
      "source": [
        "dict = {'key1':'geeks', 'key2':'fill_me'} \n",
        "print(\"Current Dict is: \", dict) \n",
        "  \n",
        "# using the subscript notation \n",
        "# Dictionary_Name[New_Key_Name] = New_Key_Value \n",
        "dict['key2'] = 'for'\n",
        "dict['key3'] = 'geeks'\n",
        "print(\"Updated Dict is: \", dict)"
      ],
      "execution_count": 17,
      "outputs": [
        {
          "output_type": "stream",
          "text": [
            "Current Dict is:  {'key1': 'geeks', 'key2': 'fill_me'}\n",
            "Updated Dict is:  {'key1': 'geeks', 'key2': 'for', 'key3': 'geeks'}\n"
          ],
          "name": "stdout"
        }
      ]
    },
    {
      "cell_type": "markdown",
      "metadata": {
        "id": "JahhrDC4cihk",
        "colab_type": "text"
      },
      "source": [
        "Program 4"
      ]
    },
    {
      "cell_type": "code",
      "metadata": {
        "id": "XF2MnbnKci9t",
        "colab_type": "code",
        "colab": {
          "base_uri": "https://localhost:8080/",
          "height": 34
        },
        "outputId": "e41b9448-7464-46b1-a57f-b4310c01b6e1"
      },
      "source": [
        "d = {'key1': 1,'key2': 14,'key3': 47}\n",
        "sum1 = sum(d[item] for item in d)\n",
        "print(sum1)"
      ],
      "execution_count": 18,
      "outputs": [
        {
          "output_type": "stream",
          "text": [
            "62\n"
          ],
          "name": "stdout"
        }
      ]
    },
    {
      "cell_type": "markdown",
      "metadata": {
        "id": "kxhKunTPcjV4",
        "colab_type": "text"
      },
      "source": [
        "Program 5\n"
      ]
    },
    {
      "cell_type": "code",
      "metadata": {
        "id": "JeE1eK8lcjy7",
        "colab_type": "code",
        "colab": {
          "base_uri": "https://localhost:8080/",
          "height": 34
        },
        "outputId": "f1f721b9-e780-4c89-9742-7e1346bc8d2b"
      },
      "source": [
        "l = [1,2,3,4,4,5,5,6,1]\n",
        "set([x for x in l if l.count(x) > 1])\n",
        "set([1, 4, 5])"
      ],
      "execution_count": 20,
      "outputs": [
        {
          "output_type": "execute_result",
          "data": {
            "text/plain": [
              "{1, 4, 5}"
            ]
          },
          "metadata": {
            "tags": []
          },
          "execution_count": 20
        }
      ]
    },
    {
      "cell_type": "markdown",
      "metadata": {
        "id": "XMW9vgtWdImc",
        "colab_type": "text"
      },
      "source": [
        "Program 6"
      ]
    },
    {
      "cell_type": "code",
      "metadata": {
        "id": "8ZMvFlDfdJBZ",
        "colab_type": "code",
        "colab": {
          "base_uri": "https://localhost:8080/",
          "height": 85
        },
        "outputId": "8cfa5602-298b-47a0-ea8d-89660579e729"
      },
      "source": [
        "d = {'a': 1, 'b':2}\n",
        "keys = 'abcd'\n",
        "\n",
        "for k in keys:\n",
        "    x = (k in d and 'key exsist') or 'key not exsist'\n",
        "    print(x)"
      ],
      "execution_count": 22,
      "outputs": [
        {
          "output_type": "stream",
          "text": [
            "key exsist\n",
            "key exsist\n",
            "key not exsist\n",
            "key not exsist\n"
          ],
          "name": "stdout"
        }
      ]
    }
  ]
}