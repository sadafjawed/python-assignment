{
 "cells": [
  {
   "cell_type": "code",
   "execution_count": 1,
   "metadata": {},
   "outputs": [
    {
     "name": "stdout",
     "output_type": "stream",
     "text": [
      "Twinkle, twinkle, little star,\n",
      "      How I wonder what you are!\n",
      "            Up above the world so high,\n",
      "            Like a diamond in the sky.\n",
      "Twinkle, twinkle, little star,\n",
      "      How I wonder what you are\n"
     ]
    }
   ],
   "source": [
    "print(\"Twinkle, twinkle, little star,\"\"\\n\"\"      How I wonder what you are!\"\"\\n\"\"            Up above the world so high,\"\"\\n\"\"            Like a diamond in the sky.\"\"\\n\"\"Twinkle, twinkle, little star,\"\"\\n\"\"      How I wonder what you are\")"
   ]
  },
  {
   "cell_type": "code",
   "execution_count": 2,
   "metadata": {},
   "outputs": [
    {
     "data": {
      "text/plain": [
       "'3.7.3 (default, Apr 24 2019, 13:20:13) [MSC v.1915 32 bit (Intel)]'"
      ]
     },
     "execution_count": 2,
     "metadata": {},
     "output_type": "execute_result"
    }
   ],
   "source": [
    "import sys\n",
    "sys.version"
   ]
  },
  {
   "cell_type": "code",
   "execution_count": 3,
   "metadata": {},
   "outputs": [
    {
     "name": "stdout",
     "output_type": "stream",
     "text": [
      "Current date and time : \n",
      "2019-11-05 00:26:54\n"
     ]
    }
   ],
   "source": [
    "import datetime\n",
    "now = datetime.datetime.now()\n",
    "print (\"Current date and time : \")\n",
    "print (now.strftime(\"%Y-%m-%d %H:%M:%S\"))\n"
   ]
  },
  {
   "cell_type": "code",
   "execution_count": 4,
   "metadata": {},
   "outputs": [
    {
     "name": "stdout",
     "output_type": "stream",
     "text": [
      "Enter Your Radius: 5\n"
     ]
    },
    {
     "data": {
      "text/plain": [
       "78.53975"
      ]
     },
     "execution_count": 4,
     "metadata": {},
     "output_type": "execute_result"
    }
   ],
   "source": [
    "radius=int(input(\"Enter Your Radius: \"))\n",
    "pie=3.14159\n",
    "area=pie*radius**2\n",
    "area"
   ]
  },
  {
   "cell_type": "code",
   "execution_count": 5,
   "metadata": {},
   "outputs": [
    {
     "name": "stdout",
     "output_type": "stream",
     "text": [
      "enter your First Name: sadaf\n",
      "enter your Last Name: jawed\n",
      "jawed sadaf\n"
     ]
    }
   ],
   "source": [
    "firstn=input(\"enter your First Name: \")\n",
    "lastn=input(\"enter your Last Name: \")\n",
    "print(lastn+\" \"+firstn)"
   ]
  },
  {
   "cell_type": "code",
   "execution_count": 4,
   "metadata": {},
   "outputs": [
    {
     "name": "stdout",
     "output_type": "stream",
     "text": [
      "Enter your First Number: 4\n",
      "Enter your Second Number: 3\n"
     ]
    },
    {
     "data": {
      "text/plain": [
       "7"
      ]
     },
     "execution_count": 4,
     "metadata": {},
     "output_type": "execute_result"
    }
   ],
   "source": [
    "num1=int(input(\"Enter your First Number: \"))\n",
    "num2=int(input(\"Enter your Second Number: \"))\n",
    "num3=num1 + num2\n",
    "num3"
   ]
  },
  {
   "cell_type": "code",
   "execution_count": null,
   "metadata": {},
   "outputs": [],
   "source": []
  },
  {
   "cell_type": "code",
   "execution_count": null,
   "metadata": {},
   "outputs": [],
   "source": []
  }
 ],
 "metadata": {
  "kernelspec": {
   "display_name": "Python 3",
   "language": "python",
   "name": "python3"
  },
  "language_info": {
   "codemirror_mode": {
    "name": "ipython",
    "version": 3
   },
   "file_extension": ".py",
   "mimetype": "text/x-python",
   "name": "python",
   "nbconvert_exporter": "python",
   "pygments_lexer": "ipython3",
   "version": "3.7.3"
  }
 },
 "nbformat": 4,
 "nbformat_minor": 2
}
