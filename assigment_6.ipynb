{
  "nbformat": 4,
  "nbformat_minor": 0,
  "metadata": {
    "colab": {
      "name": "assigment 6.ipynb",
      "provenance": [],
      "collapsed_sections": []
    },
    "kernelspec": {
      "name": "python3",
      "display_name": "Python 3"
    }
  },
  "cells": [
    {
      "cell_type": "markdown",
      "metadata": {
        "id": "Ltw14Nc3vBYF",
        "colab_type": "text"
      },
      "source": [
        "Q1\n"
      ]
    },
    {
      "cell_type": "markdown",
      "metadata": {
        "id": "cFVjuo4jvCA7",
        "colab_type": "text"
      },
      "source": [
        "**Object Oriented Programming**\n",
        "# Object-oriented programming (OOP) is a programming paradigm based on the concept of \"objects\", which can contain data, in the form of fields (often known as attributes or properties), and code, in the form of procedures (often known as methods). A feature of objects is an object's procedures that can access and often modify the data fields of the object with which they are associated (objects have a notion of \"this\" or \"self\"). In OOP, computer programs are designed by making them out of objects that interact with one another.[1][2] OOP languages are diverse, but the most popular ones are class-based, meaning that objects are instances of classes, which also determine their types."
      ]
    },
    {
      "cell_type": "markdown",
      "metadata": {
        "id": "-kfCw-IuvDF5",
        "colab_type": "text"
      },
      "source": [
        "Q2"
      ]
    },
    {
      "cell_type": "markdown",
      "metadata": {
        "id": "x1Oqk1mKvDot",
        "colab_type": "text"
      },
      "source": [
        "**Benefits of OOP**\n",
        "\n",
        "1. It provides a clear modular structure for programs which makes it good for defining abstract datatypes in which implementation details are hidden\n",
        "Objects can also be reused within an across applications. The reuse of software also lowers the cost of development. More effort is put into the object-oriented analysis and design, which lowers the overall cost of development.\n",
        "2. It makes software easier to maintain. Since the design is modular, part of the system can be updated in case of issues without a need to make large-scale changes\n",
        "3. Reuse also enables faster development. Object-oriented programming languages come with rich libraries of objects, and code developed during projects is also reusable in future projects.\n",
        "4. It provides a good framework for code libraries where the supplied software \n",
        "components can be easily adapted and modified by the programmer. This is particularly useful for developing graphical user interfaces.\n",
        "Better Productivity as OOP techniques enforce rules on a programmer that, in the long run, help her get more work done; finished programs work better, have more features and are easier to read and maintain. OOP programmers take new and existing software objects and \"stitch\" them together to make new programs. Because object libraries contain many useful functions, software developers don't have to reinvent the wheel as often; more of their time goes into making the new program."
      ]
    },
    {
      "cell_type": "markdown",
      "metadata": {
        "id": "B7kf7f6yvC7H",
        "colab_type": "text"
      },
      "source": [
        "Q3"
      ]
    },
    {
      "cell_type": "markdown",
      "metadata": {
        "id": "H5dF82KEvCsU",
        "colab_type": "text"
      },
      "source": [
        "**Difference between Method and Function in Python**\n",
        "Here, key differences between Method and Function in Python are explained. Java is also an OOP language, but their is no concept of Function in it. But Python has both concept of Method and Function.\n",
        "\n",
        "**Python Method**\n",
        "\n",
        "1. Method is called by its name, but it is associated to an object (dependent).\n",
        "2. A method is implicitly passed the object on which it is invoked.\n",
        "3. It may or may not return any data.\n",
        "4. A method can operate on the data (instance variables) that is contained by the corresponding class"
      ]
    },
    {
      "cell_type": "markdown",
      "metadata": {
        "id": "tfnmS1ydvChA",
        "colab_type": "text"
      },
      "source": [
        "Q4"
      ]
    },
    {
      "cell_type": "markdown",
      "metadata": {
        "id": "4CPFX-nU9abq",
        "colab_type": "text"
      },
      "source": [
        "**Class**\n",
        "\n",
        "\n",
        "> A class is a code template for creating objects. Objects have member variables and have behaviour associated with them. In python a class is created by the keyword class . An object is created using the constructor of the class. This object will then be called the instance of the class.\n",
        "\n",
        "**Object**\n",
        "\n",
        "\n",
        "> Python is an object oriented programming language. Unlike procedure oriented programming, where the main emphasis is on functions, object oriented programming stress on objects. Object is simply a collection of data (variables) and methods (functions) that act on those data. And, class is a blueprint for the object.\n",
        "\n",
        "**Attribute**\n",
        "\n",
        "\n",
        "> An instance attribute is a Python variable belonging to one, and only one, object. ... A class attribute is a Python variable that belongs to a class rather than a particular object. It is shared between all the objects of this class and it is defined outside the constructor function, __init__(self,...) , of the class.\n",
        "\n",
        "**Behavior**\n",
        "\n",
        "\n",
        "> Object Behavior and Special Methods. Objects in Python are generally classified according to their behaviors and the features that they implement. ... User-defined classes can define new objects that behave like the built-in types simply by supplying an appropriate subset of the special methods described in this section.\n",
        "\n",
        "\n",
        "\n",
        "\n",
        "\n",
        "\n",
        "\n"
      ]
    },
    {
      "cell_type": "markdown",
      "metadata": {
        "id": "1vQc7njv9bGL",
        "colab_type": "text"
      },
      "source": [
        "Q5"
      ]
    },
    {
      "cell_type": "code",
      "metadata": {
        "id": "OaHvzxX5_Tm-",
        "colab_type": "code",
        "colab": {}
      },
      "source": [
        "class Car:\n",
        "    def __init__(self, model, name, registration, color, speed):\n",
        "        self._color = color\n",
        "        self._registration= registration\n",
        "        self._speed = speed\n",
        "        self._name = name\n",
        "        self._model = model\n",
        "    def accelerate(self):\n",
        "     print(\"The speed of\",self._name,\"is\",self._speed)\n",
        "    def carcolor(self):\n",
        "     print(\"The color of your car is\",self._color)\n",
        "    def modelyear(self):\n",
        "        \n",
        "     print(\"The model of your car is\",self._model)\n"
      ],
      "execution_count": 0,
      "outputs": []
    },
    {
      "cell_type": "code",
      "metadata": {
        "id": "UXnrJsVkCmme",
        "colab_type": "code",
        "colab": {
          "base_uri": "https://localhost:8080/",
          "height": 272
        },
        "outputId": "044b782a-7364-4e5f-bd7f-5a0c23f9111f"
      },
      "source": [
        "car1=Car(2010,\"alto\",2012,\"red\",1000)\n",
        "car2=Car(2018,\"cultus\",2019,\"black\",1200)\n",
        "car3=Car(2015,\"every\",2015,\"white\",560)\n",
        "car4=Car(2012,\"corolla\",2018,\"blue\",1800)\n",
        "car5=Car(2019,\"swift\",2019,\"gray\",1600)\n",
        "\n",
        "car1.accelerate()\n",
        "car1.carcolor()\n",
        "car1.modelyear()\n",
        "\n",
        "car2.accelerate()\n",
        "car2.carcolor()\n",
        "car2.modelyear()\n",
        "\n",
        "car3.accelerate()\n",
        "car3.carcolor()\n",
        "car3.modelyear()\n",
        "\n",
        "car4.accelerate()\n",
        "car4.carcolor()\n",
        "car4.modelyear()\n",
        "\n",
        "car5.accelerate()\n",
        "car5.carcolor()\n",
        "car5.modelyear()"
      ],
      "execution_count": 23,
      "outputs": [
        {
          "output_type": "stream",
          "text": [
            "The speed of alto is 1000\n",
            "The color of your car is red\n",
            "The model of your car is 2010\n",
            "The speed of cultus is 1200\n",
            "The color of your car is black\n",
            "The model of your car is 2018\n",
            "The speed of every is 560\n",
            "The color of your car is white\n",
            "The model of your car is 2015\n",
            "The speed of corolla is 1800\n",
            "The color of your car is blue\n",
            "The model of your car is 2012\n",
            "The speed of swift is 1600\n",
            "The color of your car is gray\n",
            "The model of your car is 2019\n"
          ],
          "name": "stdout"
        }
      ]
    }
  ]
}