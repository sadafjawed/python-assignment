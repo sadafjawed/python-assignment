{
  "nbformat": 4,
  "nbformat_minor": 0,
  "metadata": {
    "colab": {
      "name": "assignment#5.ipynb",
      "provenance": [],
      "collapsed_sections": []
    },
    "kernelspec": {
      "name": "python3",
      "display_name": "Python 3"
    }
  },
  "cells": [
    {
      "cell_type": "markdown",
      "metadata": {
        "id": "hq2Xo99YKObK",
        "colab_type": "text"
      },
      "source": [
        "Q1"
      ]
    },
    {
      "cell_type": "code",
      "metadata": {
        "id": "1PfFlh9NDV-3",
        "colab_type": "code",
        "outputId": "5c7d9d1e-14ed-4659-ee5e-1fbbd957e08a",
        "colab": {
          "base_uri": "https://localhost:8080/",
          "height": 51
        }
      },
      "source": [
        "num= input(\"Enter Value to find Factorial:\");\n",
        "num=int(num);\n",
        "def Factorial(num):\n",
        "    num2=1;\n",
        "    if num>=1:\n",
        "        for i in range(1,num+1):\n",
        "            num2=num2*i;\n",
        "        print(\"Factorial of a\", num , \"=\", num2);\n",
        "    else:\n",
        "        print(\"Invalid Value Enter\");\n",
        "Factorial(num);"
      ],
      "execution_count": 0,
      "outputs": [
        {
          "output_type": "stream",
          "text": [
            "Enter Value to find Factorial:5\n",
            "Factorial of a 5 = 120\n"
          ],
          "name": "stdout"
        }
      ]
    },
    {
      "cell_type": "markdown",
      "metadata": {
        "id": "MwQYe7DFMGmm",
        "colab_type": "text"
      },
      "source": [
        "Q2\n"
      ]
    },
    {
      "cell_type": "code",
      "metadata": {
        "id": "DDuRkdj2FTIQ",
        "colab_type": "code",
        "colab": {}
      },
      "source": [
        "def CountUpperLower(strng):\n",
        "    upper=0;\n",
        "    lower=0;\n",
        "    for i in stns:\n",
        "        if i>=\"A\" and i<=\"Z\":\n",
        "            upper +=1;\n",
        "        elif i>=\"a\" and i<=\"z\":\n",
        "            lower +=1;\n",
        "    print(\"Upper case\",upper);\n",
        "    print(\"Lower case\", lower);\n",
        "\n",
        "strng = input(\"Enter String:\");\n",
        "CountUpperLower(strng);"
      ],
      "execution_count": 0,
      "outputs": []
    },
    {
      "cell_type": "markdown",
      "metadata": {
        "id": "g0wNFDsQP5ZD",
        "colab_type": "text"
      },
      "source": [
        "Q3"
      ]
    },
    {
      "cell_type": "code",
      "metadata": {
        "id": "cTiOmSE7FSqv",
        "colab_type": "code",
        "outputId": "0a929165-ff69-44ae-e3fb-de37c17848bf",
        "colab": {
          "base_uri": "https://localhost:8080/",
          "height": 119
        }
      },
      "source": [
        "List = [];\n",
        "n = int(input(\"Enter number of element you want to enter: \"));\n",
        "for i in range(0, n):\n",
        "    number= int(input());\n",
        "    List.append(number)\n",
        "def EvenNum(List):\n",
        "  for number in List:\n",
        "        if number % 2==0:  \n",
        "            print(number, end =\", \");\n",
        "EvenNum(List);"
      ],
      "execution_count": 0,
      "outputs": [
        {
          "output_type": "stream",
          "text": [
            "Enter number of element you want to enter: 4\n",
            "2\n",
            "5\n",
            "4\n",
            "7\n",
            "2, 4, "
          ],
          "name": "stdout"
        }
      ]
    },
    {
      "cell_type": "markdown",
      "metadata": {
        "id": "5biyBGViP0QZ",
        "colab_type": "text"
      },
      "source": [
        "Q4"
      ]
    },
    {
      "cell_type": "code",
      "metadata": {
        "id": "zCuIg9OHFSTR",
        "colab_type": "code",
        "colab": {}
      },
      "source": [
        "num = int(input(\"Enter num to check it is prime or not: \"));\n",
        "def checkPrime(num):\n",
        "    if num>1:\n",
        "        for i in range(2,num//2):\n",
        "            if(num % i)==0:\n",
        "                print(num, \" is not a prime\");\n",
        "                break;\n",
        "            else:\n",
        "                print(num, \"is a prime number \");\n",
        "    else:\n",
        "        print(num, \"is not a prime number\");\n",
        "\n",
        "checkPrime(num);\n"
      ],
      "execution_count": 0,
      "outputs": []
    },
    {
      "cell_type": "markdown",
      "metadata": {
        "id": "XDrDgg9iQGtq",
        "colab_type": "text"
      },
      "source": [
        "Q5"
      ]
    },
    {
      "cell_type": "code",
      "metadata": {
        "id": "rqoyhP--GM01",
        "colab_type": "code",
        "colab": {}
      },
      "source": [
        "def checkPaln(string):\n",
        "    if(string==string[::-1]):\n",
        "        print(\"The string is a palindrome\")\n",
        "    else:\n",
        "        print(\"Not a palindrome\")\n",
        "string= input(\"Etner word to check is it Palindrome: \");\n",
        "checkPaln(string)"
      ],
      "execution_count": 0,
      "outputs": []
    },
    {
      "cell_type": "markdown",
      "metadata": {
        "id": "PAQXJCxBQ77L",
        "colab_type": "text"
      },
      "source": [
        "Q6"
      ]
    },
    {
      "cell_type": "code",
      "metadata": {
        "id": "GhX3E1LGQ7AL",
        "colab_type": "code",
        "colab": {
          "base_uri": "https://localhost:8080/",
          "height": 85
        },
        "outputId": "c5e2893c-2672-4287-a733-06391efe2ba1"
      },
      "source": [
        "def myFun(arg1, *argv): \n",
        "    print (\"First item in shopping list :\", arg1) \n",
        "    for arg in argv: \n",
        "        print(\"Next item in shopping list :\", arg) \n",
        "  \n",
        "myFun('juice', 'bread', 'milk', 'eggs')"
      ],
      "execution_count": 3,
      "outputs": [
        {
          "output_type": "stream",
          "text": [
            "First item in shopping list : juice\n",
            "Next item in shopping list : bread\n",
            "Next item in shopping list : milk\n",
            "Next item in shopping list : eggs\n"
          ],
          "name": "stdout"
        }
      ]
    }
  ]
}